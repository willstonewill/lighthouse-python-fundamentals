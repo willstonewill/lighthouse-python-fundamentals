{
 "cells": [
  {
   "cell_type": "markdown",
   "metadata": {
    "ExecuteTime": {
     "end_time": "2020-02-05T17:56:18.818219Z",
     "start_time": "2020-02-05T17:56:18.810698Z"
    },
    "tags": []
   },
   "source": [
    "## Exercise 1\n",
    "In Orange County, 51% of the adults are males. (It doesn't take too much advanced\n",
    "mathematics to deduce that the other 49% are females.) One adult is randomly selected\n",
    "for a survey involving credit card usage.\n",
    "\n",
    "- **(a)** Find the probability that the selected person is a male.\n",
    "\n",
    "- **(b)** It is later learned that the selected survey subject was smoking a cigar. Also, 9.5% of males smoke cigars, whereas 1.7% of females smoke cigars (based on data from the Substance Abuse and Mental Health Services Administration). Use this additional information to find the probability that the cigar−smoking respondent is a male\n",
    "\n",
    "Use following notation:\n",
    "M = male <br>\n",
    "F = female <br>\n",
    "C = cigar smoker<br>\n",
    "NC = not a cigar smoker<br>\n"
   ]
  },
  {
   "cell_type": "code",
   "execution_count": 2,
   "metadata": {},
   "outputs": [],
   "source": [
    "#a. p(M) = 0.51"
   ]
  },
  {
   "cell_type": "code",
   "execution_count": 3,
   "metadata": {},
   "outputs": [],
   "source": [
    "#b p(M|C) = p(M)*p(C|M)/p(C)\n",
    "#  p(M) = 0.51  p(C|M) = 0.095 p(C) = 0.51*0.095+0.49*0.017"
   ]
  },
  {
   "cell_type": "code",
   "execution_count": 4,
   "metadata": {},
   "outputs": [
    {
     "data": {
      "text/plain": [
       "0.8532934131736527"
      ]
     },
     "execution_count": 4,
     "metadata": {},
     "output_type": "execute_result"
    }
   ],
   "source": [
    "p_M_C = 0.51*0.095/(0.51*0.095+0.49*0.017)\n",
    "p_M_C"
   ]
  },
  {
   "cell_type": "markdown",
   "metadata": {
    "ExecuteTime": {
     "end_time": "2020-02-05T17:56:20.532960Z",
     "start_time": "2020-02-05T17:56:20.525450Z"
    }
   },
   "source": [
    "# Exercise 2\n",
    "\n",
    "A diagnostic test has a probability 0.95 of giving a positive result when applied to a person suffering\n",
    "from a certain disease, and a probability 0.10 of giving a (false) positive when applied to a non-sufferer. It is\n",
    "estimated that 0.5 % of the population are sufferers. Suppose that the test is now administered to a person about\n",
    "whom we have no relevant information relating to the disease (apart from the fact that he/she comes from this\n",
    "population). \n",
    "\n",
    "Calculate the following probabilities:\n",
    "- **(a)** that the test result will be positive;\n",
    "- **(b)** that, given a positive result, the person is a sufferer;\n",
    "- **(c)** that, given a negative result, the person is a non-sufferer;\n",
    "- **(d)** that the person will be misclassified.\n",
    "\n",
    "Use following notation:\n",
    "\n",
    "T = test positive <br>\n",
    "NT = test negative<br>\n",
    "S = sufferer<br>\n",
    "NS = non-sufferer<br>\n",
    "M = misclassified<br>\n",
    "\n",
    "Solve it by two approaches:\n",
    "1. Arithmetically\n",
    "2. By simulation"
   ]
  },
  {
   "cell_type": "code",
   "execution_count": 13,
   "metadata": {},
   "outputs": [],
   "source": [
    "# what we have from statement above: p(T|S)=0.95  p(T|NS)=0.10  p(S)=0.005  so p(NS) = 0.995\n",
    "\n",
    "# a. p(T) = p(T and S) + p(T and NS) = p(T|S)*p(S) + p(T|NS)*p(NS) = 0.95*0.005 + 0.10*0.995 = 0.10425(rounded)\n",
    "\n",
    "# b. p(S|T) = p(T|S)*p(S)/p(T) = 0.95*0.005/0.10425 = 0.0456(rounded)\n",
    "\n",
    "# c. p(NS|NT) = p(NT|NS)*p(NS)/p(NT) = (1-0.10)*0.995/(1-0.10425) = 0.999(rounded)\n",
    "\n",
    "# d. p(M) = p(NS and T) + p(S and NT) = (1-0.046)*0.10425 + (1-0.999)*(1-0.10425) = 0.10"
   ]
  },
  {
   "cell_type": "code",
   "execution_count": 101,
   "metadata": {},
   "outputs": [
    {
     "name": "stdout",
     "output_type": "stream",
     "text": [
      "a. p(T) = 10.459999999999999%\n",
      "b. p(S|T) = 0.045889101338432124%\n",
      "c. p(NS|NT) = 0.9998883180701363%\n",
      "d. p(M) = 9.99%\n"
     ]
    }
   ],
   "source": [
    "# Simulation\n",
    "import numpy as np\n",
    "\n",
    "n = 10000\n",
    "\n",
    "T = 0\n",
    "NT = 0\n",
    "S = 0\n",
    "NS = 0\n",
    "T_S = 0\n",
    "T_NS = 0\n",
    "NT_S = 0\n",
    "NT_NS = 0\n",
    "\n",
    "#np.random.seed(77)\n",
    "\n",
    "for _ in range(n):\n",
    "    if np.random.random() <= 0.005: # sufferer\n",
    "        S += 1\n",
    "        if np.random.random() <= 0.95: # tested positive\n",
    "            T += 1\n",
    "            T_S += 1\n",
    "        else: # tested negative\n",
    "            NT += 1\n",
    "            NT_S += 1\n",
    "    else: # nonsufferer\n",
    "        NS += 1\n",
    "        if np.random.random() <= 0.10: # tested positive\n",
    "            T += 1\n",
    "            T_NS += 1\n",
    "        else: # tested negative\n",
    "            NT += 1\n",
    "            NT_NS += 1\n",
    "\n",
    "p_T = T/n * 100\n",
    "p_NT = NT/n * 100\n",
    "p_S = S/n * 100\n",
    "p_NS = NS/n * 100\n",
    "p_T_S = T_S/n * 100\n",
    "p_T_NS = T_NS/n * 100\n",
    "p_NT_S = NT_S/n * 100\n",
    "p_NT_NS = NT_NS/n * 100\n",
    "\n",
    "print(f'a. p(T) = {p_T}%')\n",
    "print(f'b. p(S|T) = {p_T_S/p_T}%') \n",
    "print(f'c. p(NS|NT) = {p_NT_NS/p_NT}%') \n",
    "print(f'd. p(M) = {p_T_NS + p_NT_S}%') "
   ]
  },
  {
   "cell_type": "code",
   "execution_count": null,
   "metadata": {},
   "outputs": [],
   "source": []
  }
 ],
 "metadata": {
  "kernelspec": {
   "display_name": "Python 3 (ipykernel)",
   "language": "python",
   "name": "python3"
  },
  "language_info": {
   "codemirror_mode": {
    "name": "ipython",
    "version": 3
   },
   "file_extension": ".py",
   "mimetype": "text/x-python",
   "name": "python",
   "nbconvert_exporter": "python",
   "pygments_lexer": "ipython3",
   "version": "3.8.11"
  },
  "toc": {
   "base_numbering": 1,
   "nav_menu": {},
   "number_sections": true,
   "sideBar": true,
   "skip_h1_title": false,
   "title_cell": "Table of Contents",
   "title_sidebar": "Contents",
   "toc_cell": false,
   "toc_position": {},
   "toc_section_display": true,
   "toc_window_display": false
  },
  "varInspector": {
   "cols": {
    "lenName": 16,
    "lenType": 16,
    "lenVar": 40
   },
   "kernels_config": {
    "python": {
     "delete_cmd_postfix": "",
     "delete_cmd_prefix": "del ",
     "library": "var_list.py",
     "varRefreshCmd": "print(var_dic_list())"
    },
    "r": {
     "delete_cmd_postfix": ") ",
     "delete_cmd_prefix": "rm(",
     "library": "var_list.r",
     "varRefreshCmd": "cat(var_dic_list()) "
    }
   },
   "types_to_exclude": [
    "module",
    "function",
    "builtin_function_or_method",
    "instance",
    "_Feature"
   ],
   "window_display": false
  }
 },
 "nbformat": 4,
 "nbformat_minor": 4
}
