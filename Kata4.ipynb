{
 "cells": [
  {
   "cell_type": "code",
   "execution_count": 4,
   "id": "8287b714-dced-4f3b-aca5-3b9aac5fae41",
   "metadata": {},
   "outputs": [
    {
     "name": "stdout",
     "output_type": "stream",
     "text": [
      "Jeremiah\n",
      "Domascus\n"
     ]
    }
   ],
   "source": [
    "def instructorWithLongestName(instructors):\n",
    "    # Put your solution here\n",
    "    longest_idx = 0\n",
    "    longest_length = 0\n",
    "    for i in range(len(instructors)):\n",
    "        length = len(instructors[i]['name'])\n",
    "        if length > longest_length:\n",
    "            longest_length = length\n",
    "            longest_idx = i\n",
    "    return instructors[longest_idx]['name']\n",
    "    \n",
    "print(instructorWithLongestName([\n",
    "  {\"name\": \"Samuel\", \"course\": \"iOS\"},\n",
    "  {\"name\": \"Jeremiah\", \"course\": \"Data\"},\n",
    "  {\"name\": \"Ophilia\", \"course\": \"Web\"},\n",
    "  {\"name\": \"Donald\", \"course\": \"Web\"}\n",
    "]))\n",
    "print(instructorWithLongestName([\n",
    "  {\"name\": \"Matthew\", \"course\": \"Data\"},\n",
    "  {\"name\": \"David\", \"course\": \"iOS\"},\n",
    "  {\"name\": \"Domascus\", \"course\": \"Web\"}\n",
    "]))"
   ]
  }
 ],
 "metadata": {
  "kernelspec": {
   "display_name": "Python 3 (ipykernel)",
   "language": "python",
   "name": "python3"
  },
  "language_info": {
   "codemirror_mode": {
    "name": "ipython",
    "version": 3
   },
   "file_extension": ".py",
   "mimetype": "text/x-python",
   "name": "python",
   "nbconvert_exporter": "python",
   "pygments_lexer": "ipython3",
   "version": "3.8.11"
  }
 },
 "nbformat": 4,
 "nbformat_minor": 5
}
