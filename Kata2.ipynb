{
 "cells": [
  {
   "cell_type": "code",
   "execution_count": 6,
   "id": "c1ff2729-40df-4a6e-ae4a-0982dbfbcd06",
   "metadata": {},
   "outputs": [
    {
     "name": "stdout",
     "output_type": "stream",
     "text": [
      "6\n",
      "9\n",
      "144\n",
      "0\n"
     ]
    }
   ],
   "source": [
    "def conditionalSum(values, condition):\n",
    "    # Your code here\n",
    "    sums = 0\n",
    "    if condition == \"even\":\n",
    "        for i in values:\n",
    "            if i % 2 == 0:\n",
    "                sums += i\n",
    "    if condition == \"odd\":\n",
    "        for i in values:\n",
    "            if i % 2 != 0:\n",
    "                sums += i\n",
    "    return sums\n",
    "print(conditionalSum([1, 2, 3, 4, 5], \"even\"))\n",
    "print(conditionalSum([1, 2, 3, 4, 5], \"odd\"))\n",
    "print(conditionalSum([13, 88, 12, 44, 99], \"even\"))\n",
    "print(conditionalSum([], \"odd\"))"
   ]
  }
 ],
 "metadata": {
  "kernelspec": {
   "display_name": "Python 3 (ipykernel)",
   "language": "python",
   "name": "python3"
  },
  "language_info": {
   "codemirror_mode": {
    "name": "ipython",
    "version": 3
   },
   "file_extension": ".py",
   "mimetype": "text/x-python",
   "name": "python",
   "nbconvert_exporter": "python",
   "pygments_lexer": "ipython3",
   "version": "3.8.11"
  }
 },
 "nbformat": 4,
 "nbformat_minor": 5
}
