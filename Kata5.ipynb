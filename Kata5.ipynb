{
 "cells": [
  {
   "cell_type": "code",
   "execution_count": 7,
   "id": "c2f01157-ed41-4c56-a7c0-b63962903adb",
   "metadata": {},
   "outputs": [
    {
     "name": "stdout",
     "output_type": "stream",
     "text": [
      "Lighthouse%20Labs\n",
      "Lighthouse%20Labs\n",
      "blue%20is%20greener%20than%20purple%20for%20sure\n"
     ]
    }
   ],
   "source": [
    "def urlEncode(text):\n",
    "    # Put your solution here\n",
    "    text = text.strip()\n",
    "    i = 0\n",
    "    while i < len(text):\n",
    "        if text[i] == ' ':\n",
    "            text = text[:i] + '%20' + text[i+1:]\n",
    "        i += 1\n",
    "    return text\n",
    "\n",
    "print(urlEncode(\"Lighthouse Labs\"))\n",
    "print(urlEncode(\" Lighthouse Labs  \"))\n",
    "print(urlEncode(\"blue is greener than purple for sure\"))"
   ]
  }
 ],
 "metadata": {
  "kernelspec": {
   "display_name": "Python 3 (ipykernel)",
   "language": "python",
   "name": "python3"
  },
  "language_info": {
   "codemirror_mode": {
    "name": "ipython",
    "version": 3
   },
   "file_extension": ".py",
   "mimetype": "text/x-python",
   "name": "python",
   "nbconvert_exporter": "python",
   "pygments_lexer": "ipython3",
   "version": "3.8.11"
  }
 },
 "nbformat": 4,
 "nbformat_minor": 5
}
