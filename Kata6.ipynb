{
 "cells": [
  {
   "cell_type": "code",
   "execution_count": 50,
   "id": "09fb31ae-cfc1-4e7c-8a0d-9ae76a37729e",
   "metadata": {},
   "outputs": [
    {
     "name": "stdout",
     "output_type": "stream",
     "text": [
      "[4, 0]\n",
      "False\n",
      "[4, 4]\n"
     ]
    }
   ],
   "source": [
    "def whereCanIPark(spots, vehicle):\n",
    "    # Code here!\n",
    "    spot_needed = vehicle[0].upper()\n",
    "    \n",
    "    import numpy as np\n",
    "    spots = np.array(spots)\n",
    "    \n",
    "    cor_r = search('R', spots)\n",
    "    cor_s = search('S', spots)\n",
    "    cor_m = search('M', spots)\n",
    "    \n",
    "    if spot_needed == 'R':\n",
    "        return cor_r\n",
    "    \n",
    "    if spot_needed == 'S':\n",
    "        if cor_r:\n",
    "            return cor_r\n",
    "        else:\n",
    "            return cor_s\n",
    "        \n",
    "    if spot_needed == 'M':\n",
    "        if cor_r:\n",
    "            return cor_r\n",
    "        elif cor_s:\n",
    "            return cor_s\n",
    "        else:\n",
    "            return cor_m\n",
    "    \n",
    "    \n",
    "def search(spot_type, spots):\n",
    "    idx = np.asarray(spots == spot_type).nonzero()\n",
    "    if idx[0].size:\n",
    "        return [idx[1][0], idx[0][0]]\n",
    "    else:\n",
    "        return False\n",
    "\n",
    "\n",
    "print(whereCanIPark(\n",
    "  [\n",
    "    # COLUMNS ARE X\n",
    "    # 0    1    2    3    4    5\n",
    "    ['s', 's', 's', 'S', 'R', 'M'], # 0 ROWS ARE Y\n",
    "    ['s', 'M', 's', 'S', 'r', 'M'], # 1\n",
    "    ['s', 'M', 's', 'S', 'r', 'm'], # 2\n",
    "    ['S', 'r', 's', 'm', 'r', 'M'], # 3\n",
    "    ['S', 'r', 's', 'm', 'r', 'M'], # 4\n",
    "    ['S', 'r', 'S', 'M', 'M', 'S']  # 5\n",
    "  ],\n",
    "  'regular'\n",
    "))\n",
    "\n",
    "print(whereCanIPark(\n",
    "  [\n",
    "    ['M', 'M', 'M', 'M'],\n",
    "    ['M', 's', 'M', 'M'],\n",
    "    ['M', 'M', 'M', 'M'],\n",
    "    ['M', 'M', 'r', 'M']\n",
    "  ],\n",
    "  'small'\n",
    "))\n",
    "\n",
    "print(whereCanIPark(\n",
    "  [\n",
    "    ['s', 's', 's', 's', 's', 's'],\n",
    "    ['s', 'm', 's', 'S', 'r', 's'],\n",
    "    ['s', 'm', 's', 'S', 'r', 's'],\n",
    "    ['S', 'r', 's', 'm', 'r', 's'],\n",
    "    ['S', 'r', 's', 'm', 'R', 's'],\n",
    "    ['S', 'r', 'S', 'M', 'm', 'S']\n",
    "  ],\n",
    "  'motorcycle'\n",
    "))"
   ]
  }
 ],
 "metadata": {
  "kernelspec": {
   "display_name": "Python 3 (ipykernel)",
   "language": "python",
   "name": "python3"
  },
  "language_info": {
   "codemirror_mode": {
    "name": "ipython",
    "version": 3
   },
   "file_extension": ".py",
   "mimetype": "text/x-python",
   "name": "python",
   "nbconvert_exporter": "python",
   "pygments_lexer": "ipython3",
   "version": "3.8.11"
  }
 },
 "nbformat": 4,
 "nbformat_minor": 5
}
